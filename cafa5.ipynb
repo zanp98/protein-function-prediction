{
 "cells": [
  {
   "cell_type": "code",
   "execution_count": 1,
   "id": "initial_id",
   "metadata": {
    "collapsed": true,
    "ExecuteTime": {
     "end_time": "2024-05-07T11:20:03.523705Z",
     "start_time": "2024-05-07T11:18:19.766114Z"
    }
   },
   "outputs": [],
   "source": [
    "import networkx\n",
    "import obonet\n",
    "import helper_functions as hf\n",
    "import pandas as pd\n",
    "\n",
    "fasta_path = 'data/cafa-5-protein-function-prediction/Train/train_sequences.fasta'\n",
    "taxonomy_path = 'data/cafa-5-protein-function-prediction/Train/train_taxonomy.tsv'\n",
    "terms_path = 'data/cafa-5-protein-function-prediction/Train/train_terms.tsv'\n",
    "\n",
    "proteins_data = hf.integrate_data(fasta_path, taxonomy_path, terms_path)\n",
    "\n",
    "G = obonet.read_obo(\"data/cafa-5-protein-function-prediction/Train/go-basic.obo\")\n"
   ]
  },
  {
   "cell_type": "code",
   "execution_count": 2,
   "outputs": [
    {
     "name": "stdout",
     "output_type": "stream",
     "text": [
      "MultiDiGraph named 'go' with 43248 nodes and 84805 edges\n"
     ]
    }
   ],
   "source": [
    "print(G)"
   ],
   "metadata": {
    "collapsed": false,
    "ExecuteTime": {
     "end_time": "2024-05-07T11:20:53.603860Z",
     "start_time": "2024-05-07T11:20:53.581892Z"
    }
   },
   "id": "dadb6ec6c3a6e92d"
  },
  {
   "cell_type": "code",
   "execution_count": 3,
   "outputs": [
    {
     "data": {
      "text/plain": "142246"
     },
     "execution_count": 3,
     "metadata": {},
     "output_type": "execute_result"
    }
   ],
   "source": [
    "len(proteins_data)"
   ],
   "metadata": {
    "collapsed": false,
    "ExecuteTime": {
     "end_time": "2024-05-07T11:20:54.113194Z",
     "start_time": "2024-05-07T11:20:54.106825Z"
    }
   },
   "id": "3877447a9cc9a96f"
  },
  {
   "cell_type": "code",
   "execution_count": 4,
   "outputs": [
    {
     "name": "stdout",
     "output_type": "stream",
     "text": [
      "{'sequence': 'MNSVTVSHAPYTITYHDDWEPVMSQLVEFYNEVASWLLRDETSPIPDKFFIQLKQPLRNKRVCVCGIDPYPKDGTGVPFESPNFTKKSIKEIASSISRLTGVIDYKGYNLNIIDGVIPWNYYLSCKLGETKSHAIYWDKISKLLLQHITKHVSVLYCLGKTDFSNIRAKLESPVTTIVGYHPAARDRQFEKDRSFEIINVLLELDNKVPINWAQGFIY', 'taxon_id': '10249', 'GO': {'BPO': ['GO:0008152', 'GO:0071897', 'GO:0044249', 'GO:0006259', 'GO:0009059', 'GO:0009987', 'GO:1901362', 'GO:0009058', 'GO:0044271', 'GO:0006725', 'GO:0034641', 'GO:0044237', 'GO:1901360', 'GO:0008150', 'GO:1901576', 'GO:0019058', 'GO:0071704', 'GO:0039693', 'GO:0006139', 'GO:0044260', 'GO:0090304', 'GO:0043170', 'GO:0046483', 'GO:0034654', 'GO:0019438', 'GO:0018130', 'GO:0016032', 'GO:0044238', 'GO:0006807', 'GO:0019079'], 'CCO': [], 'MFO': ['GO:0005515', 'GO:0005488', 'GO:0003674']}}\n"
     ]
    }
   ],
   "source": [
    "print(proteins_data['P20536'])"
   ],
   "metadata": {
    "collapsed": false,
    "ExecuteTime": {
     "end_time": "2024-05-07T11:20:55.011918Z",
     "start_time": "2024-05-07T11:20:55.008388Z"
    }
   },
   "id": "bb31fc2d92c35b53"
  },
  {
   "cell_type": "code",
   "execution_count": 5,
   "outputs": [],
   "source": [
    "import json\n",
    "\n",
    "def save_to_json(data, filename):\n",
    "    \"\"\"\n",
    "    Save the given dictionary to a JSON file.\n",
    "\n",
    "    Parameters:\n",
    "    data (dict): Dictionary to save.\n",
    "    filename (str): File path where the JSON file will be saved.\n",
    "    \"\"\"\n",
    "    with open(filename, 'w') as file:\n",
    "        json.dump(data, file, indent=4)\n",
    "        \n",
    "filename = 'proteins_data.json'\n",
    "save_to_json(proteins_data, filename)"
   ],
   "metadata": {
    "collapsed": false,
    "ExecuteTime": {
     "end_time": "2024-05-07T11:24:59.962904Z",
     "start_time": "2024-05-07T11:24:57.471699Z"
    }
   },
   "id": "a1777bd10535bbf0"
  },
  {
   "cell_type": "code",
   "execution_count": null,
   "outputs": [],
   "source": [],
   "metadata": {
    "collapsed": false
   },
   "id": "1fdded72666adca8"
  }
 ],
 "metadata": {
  "kernelspec": {
   "display_name": "Python 3",
   "language": "python",
   "name": "python3"
  },
  "language_info": {
   "codemirror_mode": {
    "name": "ipython",
    "version": 2
   },
   "file_extension": ".py",
   "mimetype": "text/x-python",
   "name": "python",
   "nbconvert_exporter": "python",
   "pygments_lexer": "ipython2",
   "version": "2.7.6"
  }
 },
 "nbformat": 4,
 "nbformat_minor": 5
}
