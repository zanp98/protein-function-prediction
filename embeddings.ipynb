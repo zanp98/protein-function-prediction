{
 "cells": [
  {
   "cell_type": "markdown",
   "id": "36439407-b7df-4ca0-b538-e4a2d8052228",
   "metadata": {},
   "source": [
    "# Protein Embeddings"
   ]
  },
  {
   "cell_type": "markdown",
   "id": "128ee4b3-462f-46ae-bd49-d160a969f19b",
   "metadata": {},
   "source": [
    "In this notebook, we will preprocess the data that will be used for training a protein function prediction model, i.e. we will embed the protein sequences into a vector format."
   ]
  },
  {
   "cell_type": "markdown",
   "id": "c8dc38c9-0896-4c9f-b27d-0bf3b1c608bc",
   "metadata": {},
   "source": [
    "## Libraries"
   ]
  },
  {
   "cell_type": "code",
   "execution_count": 1,
   "id": "78195400-d02e-447c-aa63-caae5909c6eb",
   "metadata": {},
   "outputs": [
    {
     "name": "stdout",
     "output_type": "stream",
     "text": [
      "Defaulting to user installation because normal site-packages is not writeable\n",
      "Requirement already satisfied: Bio in c:\\users\\nikol\\appdata\\roaming\\python\\python38\\site-packages (1.6.2)\n",
      "Requirement already satisfied: biopython>=1.80 in c:\\users\\nikol\\appdata\\roaming\\python\\python38\\site-packages (from Bio) (1.83)\n",
      "Requirement already satisfied: requests in c:\\programdata\\anaconda3\\envs\\cuda_test\\lib\\site-packages (from Bio) (2.31.0)\n",
      "Requirement already satisfied: tqdm in c:\\programdata\\anaconda3\\envs\\cuda_test\\lib\\site-packages (from Bio) (4.66.2)\n",
      "Requirement already satisfied: mygene in c:\\users\\nikol\\appdata\\roaming\\python\\python38\\site-packages (from Bio) (3.2.2)\n",
      "Requirement already satisfied: pandas in c:\\programdata\\anaconda3\\envs\\cuda_test\\lib\\site-packages (from Bio) (2.0.3)\n",
      "Requirement already satisfied: pooch in c:\\users\\nikol\\appdata\\roaming\\python\\python38\\site-packages (from Bio) (1.8.1)\n",
      "Requirement already satisfied: gprofiler-official in c:\\users\\nikol\\appdata\\roaming\\python\\python38\\site-packages (from Bio) (1.0.0)\n",
      "Requirement already satisfied: numpy in c:\\programdata\\anaconda3\\envs\\cuda_test\\lib\\site-packages (from biopython>=1.80->Bio) (1.24.3)\n",
      "Requirement already satisfied: biothings-client>=0.2.6 in c:\\users\\nikol\\appdata\\roaming\\python\\python38\\site-packages (from mygene->Bio) (0.3.1)\n",
      "Requirement already satisfied: python-dateutil>=2.8.2 in c:\\programdata\\anaconda3\\envs\\cuda_test\\lib\\site-packages (from pandas->Bio) (2.8.2)\n",
      "Requirement already satisfied: pytz>=2020.1 in c:\\programdata\\anaconda3\\envs\\cuda_test\\lib\\site-packages (from pandas->Bio) (2023.3.post1)\n",
      "Requirement already satisfied: tzdata>=2022.1 in c:\\programdata\\anaconda3\\envs\\cuda_test\\lib\\site-packages (from pandas->Bio) (2023.3)\n",
      "Requirement already satisfied: platformdirs>=2.5.0 in c:\\programdata\\anaconda3\\envs\\cuda_test\\lib\\site-packages (from pooch->Bio) (3.10.0)\n",
      "Requirement already satisfied: packaging>=20.0 in c:\\programdata\\anaconda3\\envs\\cuda_test\\lib\\site-packages (from pooch->Bio) (23.2)\n",
      "Requirement already satisfied: charset-normalizer<4,>=2 in c:\\programdata\\anaconda3\\envs\\cuda_test\\lib\\site-packages (from requests->Bio) (2.0.4)\n",
      "Requirement already satisfied: idna<4,>=2.5 in c:\\programdata\\anaconda3\\envs\\cuda_test\\lib\\site-packages (from requests->Bio) (3.4)\n",
      "Requirement already satisfied: urllib3<3,>=1.21.1 in c:\\programdata\\anaconda3\\envs\\cuda_test\\lib\\site-packages (from requests->Bio) (2.1.0)\n",
      "Requirement already satisfied: certifi>=2017.4.17 in c:\\programdata\\anaconda3\\envs\\cuda_test\\lib\\site-packages (from requests->Bio) (2024.2.2)\n",
      "Requirement already satisfied: colorama in c:\\programdata\\anaconda3\\envs\\cuda_test\\lib\\site-packages (from tqdm->Bio) (0.4.6)\n",
      "Requirement already satisfied: six>=1.5 in c:\\programdata\\anaconda3\\envs\\cuda_test\\lib\\site-packages (from python-dateutil>=2.8.2->pandas->Bio) (1.16.0)\n"
     ]
    }
   ],
   "source": [
    "!pip install Bio"
   ]
  },
  {
   "cell_type": "code",
   "execution_count": 32,
   "id": "11b094c9-2f6b-4125-9c2b-0f3fc065ee65",
   "metadata": {},
   "outputs": [],
   "source": [
    "import pandas as pd\n",
    "import torch\n",
    "from Bio import SeqIO"
   ]
  },
  {
   "cell_type": "markdown",
   "id": "47379bbf-2b5d-40ac-83cf-bba4a2137643",
   "metadata": {},
   "source": [
    "## Data"
   ]
  },
  {
   "cell_type": "markdown",
   "id": "52a41995-f931-4a5a-90fe-be3132c78c56",
   "metadata": {},
   "source": [
    "The objective of the model will be to predict the terms (functions) of a protein sequence. It's important to keep in mind that one protein sequence can have many functions (GO Term IDs) and all of them must be predicted by our model for each protein sequence."
   ]
  },
  {
   "cell_type": "markdown",
   "id": "a2c1dad2-7af2-42b1-b626-1103fb5ff9f1",
   "metadata": {},
   "source": [
    "### Protein Sequence"
   ]
  },
  {
   "cell_type": "markdown",
   "id": "4cf03c2e-a1fd-45db-94e0-b66693fe6f98",
   "metadata": {},
   "source": [
    "Our data is composed of protein sequences (a string of letters), where each one-letter or three-letter code represents an amino acid. The sequences can be found in the file `train_sequences.fasta`."
   ]
  },
  {
   "cell_type": "code",
   "execution_count": 3,
   "id": "cca610b2-ab2e-4423-858e-3dc61ab23656",
   "metadata": {},
   "outputs": [],
   "source": [
    "proteins = SeqIO.parse('./data/cafa-5-protein-function-prediction/Train/train_sequences.fasta', \"fasta\")\n",
    "train_proteins = {}\n",
    "\n",
    "for protein in proteins:\n",
    "    train_proteins[protein.id] = {'sequence': str(protein.seq), 'GO': {'BPO': [], 'CCO': [], 'MFO': []}}"
   ]
  },
  {
   "cell_type": "code",
   "execution_count": 4,
   "id": "6dd22621-cd69-4933-8fc2-935214c468b7",
   "metadata": {},
   "outputs": [
    {
     "data": {
      "text/plain": [
       "[('P20536',\n",
       "  {'sequence': 'MNSVTVSHAPYTITYHDDWEPVMSQLVEFYNEVASWLLRDETSPIPDKFFIQLKQPLRNKRVCVCGIDPYPKDGTGVPFESPNFTKKSIKEIASSISRLTGVIDYKGYNLNIIDGVIPWNYYLSCKLGETKSHAIYWDKISKLLLQHITKHVSVLYCLGKTDFSNIRAKLESPVTTIVGYHPAARDRQFEKDRSFEIINVLLELDNKVPINWAQGFIY',\n",
       "   'GO': {'BPO': [], 'CCO': [], 'MFO': []}}),\n",
       " ('O73864',\n",
       "  {'sequence': 'MTEYRNFLLLFITSLSVIYPCTGISWLGLTINGSSVGWNQTHHCKLLDGLVPDQQQLCKRNLELMHSIVRAARLTKSACTSSFSDMRWNWSSIESAPHFTPDLAKGTREAAFVVSLAAAVVSHAIARACASGDLPSCSCAAMPSEQAAPDFRWGGCGDNLRYYGLQMGSAFSDAPMRNRRSGPQDFRLMQLHNNAVGRQVLMDSLEMKCKCHGVSGSCSVKTCWKGLQDISTISADLKSKYLSATKVIPRQIGTRRQLVPREMEVRPVGENELVYLVSSPDYCTQNAKQGSLGTTDRQCNKTASGSESCGLMCCGRGYNAYTEVLVERCQCKYHWCCYVSCKTCKRTVERYVSK',\n",
       "   'GO': {'BPO': [], 'CCO': [], 'MFO': []}}),\n",
       " ('O95231',\n",
       "  {'sequence': 'MRLSSSPPRGPQQLSSFGSVDWLSQSSCSGPTHTPRPADFSLGSLPGPGQTSGAREPPQAVSIKEAAGSSNLPAPERTMAGLSKEPNTLRAPRVRTAFTMEQVRTLEGVFQHHQYLSPLERKRLAREMQLSEVQIKTWFQNRRMKHKRQMQDPQLHSPFSGSLHAPPAFYSTSSGLANGLQLLCPWAPLSGPQALMLPPGSFWGLCQVAQEALASAGASCCGQPLASHPPTPGRPSLGPALSTGPRGLCAMPQTGDAF',\n",
       "   'GO': {'BPO': [], 'CCO': [], 'MFO': []}})]"
      ]
     },
     "execution_count": 4,
     "metadata": {},
     "output_type": "execute_result"
    }
   ],
   "source": [
    "list(train_proteins.items())[:3]"
   ]
  },
  {
   "cell_type": "markdown",
   "id": "8cf93885-155f-4c54-b217-9aa954beb9aa",
   "metadata": {},
   "source": [
    "### Taxonomy"
   ]
  },
  {
   "cell_type": "markdown",
   "id": "700bed7d-1c09-4570-bd1c-b83e115ada40",
   "metadata": {},
   "source": [
    "The file `train_taxonomy.tsv` contains list of proteins and the species to whuch they belong (taxonomy ID). The first columns is the protein UniProt accession ID and the second is the taxon ID."
   ]
  },
  {
   "cell_type": "code",
   "execution_count": 5,
   "id": "bbffc2ba-87ca-4119-9231-c6211a1268ed",
   "metadata": {},
   "outputs": [],
   "source": [
    "train_taxonomy = pd.read_csv('./data/cafa-5-protein-function-prediction/Train/train_taxonomy.tsv', sep='\\t')"
   ]
  },
  {
   "cell_type": "markdown",
   "id": "79fcf5e5-3f40-4f44-84d5-6bb2ddbaa6ea",
   "metadata": {},
   "source": [
    "train_taxonomy.head(3)"
   ]
  },
  {
   "cell_type": "markdown",
   "id": "d83f5991-5c13-42e6-8c3a-94c16f88150f",
   "metadata": {},
   "source": [
    "### Gene Ontology"
   ]
  },
  {
   "cell_type": "markdown",
   "id": "8669a206-2a88-49da-ab19-efe148b1bd17",
   "metadata": {},
   "source": [
    "The functional properties of proteins are defined using Gene Ontology (GO) with respect to Molecular Function (MF), Biological Process (BP), and Cellular Component (CC). List of annotated terms (ground thruths) for the protein sequences are available in the file `train_terms.fasta`, where the first column (attribute) is the protein's UniProt accession ID (unique protein id), the second is the GO Term ID, and the third is the ontology, in which the term appears."
   ]
  },
  {
   "cell_type": "code",
   "execution_count": 6,
   "id": "58277fc3-ba8a-4c94-af88-5f2d9a2d5d2f",
   "metadata": {},
   "outputs": [],
   "source": [
    "train_terms = pd.read_csv('./data/cafa-5-protein-function-prediction/Train/train_terms.tsv', sep='\\t')"
   ]
  },
  {
   "cell_type": "code",
   "execution_count": 7,
   "id": "512ec26a-0a80-40ef-9b18-47401dcd01b5",
   "metadata": {},
   "outputs": [
    {
     "data": {
      "text/html": [
       "<div>\n",
       "<style scoped>\n",
       "    .dataframe tbody tr th:only-of-type {\n",
       "        vertical-align: middle;\n",
       "    }\n",
       "\n",
       "    .dataframe tbody tr th {\n",
       "        vertical-align: top;\n",
       "    }\n",
       "\n",
       "    .dataframe thead th {\n",
       "        text-align: right;\n",
       "    }\n",
       "</style>\n",
       "<table border=\"1\" class=\"dataframe\">\n",
       "  <thead>\n",
       "    <tr style=\"text-align: right;\">\n",
       "      <th></th>\n",
       "      <th>EntryID</th>\n",
       "      <th>term</th>\n",
       "      <th>aspect</th>\n",
       "    </tr>\n",
       "  </thead>\n",
       "  <tbody>\n",
       "    <tr>\n",
       "      <th>0</th>\n",
       "      <td>A0A009IHW8</td>\n",
       "      <td>GO:0008152</td>\n",
       "      <td>BPO</td>\n",
       "    </tr>\n",
       "    <tr>\n",
       "      <th>1</th>\n",
       "      <td>A0A009IHW8</td>\n",
       "      <td>GO:0034655</td>\n",
       "      <td>BPO</td>\n",
       "    </tr>\n",
       "    <tr>\n",
       "      <th>2</th>\n",
       "      <td>A0A009IHW8</td>\n",
       "      <td>GO:0072523</td>\n",
       "      <td>BPO</td>\n",
       "    </tr>\n",
       "  </tbody>\n",
       "</table>\n",
       "</div>"
      ],
      "text/plain": [
       "      EntryID        term aspect\n",
       "0  A0A009IHW8  GO:0008152    BPO\n",
       "1  A0A009IHW8  GO:0034655    BPO\n",
       "2  A0A009IHW8  GO:0072523    BPO"
      ]
     },
     "execution_count": 7,
     "metadata": {},
     "output_type": "execute_result"
    }
   ],
   "source": [
    "train_terms.head(3)"
   ]
  },
  {
   "cell_type": "markdown",
   "id": "61d1daa1-511a-4f42-88ff-c9d5fe5573db",
   "metadata": {},
   "source": [
    "## Embedding"
   ]
  },
  {
   "cell_type": "markdown",
   "id": "6dc412da-717b-48b0-a625-42fbb583c7f7",
   "metadata": {},
   "source": [
    "### Training Proteins"
   ]
  },
  {
   "cell_type": "markdown",
   "id": "177add0f-e524-48aa-aacc-3c22863b8a4e",
   "metadata": {},
   "source": [
    "Let's now convert the alphabetical protein sequences into a vector format (embeddings) that will be used to train our model. Since we talk about a sequence of letters, we can use a similar approach, used to generate word embeddings for an NLP model's training. Thus we can use any publicly available pre-trained protein embedding models to generate the embeddings. **TODO**"
   ]
  },
  {
   "cell_type": "code",
   "execution_count": null,
   "id": "5a7e8bd6-c68a-45fe-bf18-1e32bba49da0",
   "metadata": {},
   "outputs": [],
   "source": []
  },
  {
   "cell_type": "markdown",
   "id": "df2cb232-a3b2-4449-9a85-5e54871503c9",
   "metadata": {},
   "source": [
    "### Test Proteins"
   ]
  },
  {
   "cell_type": "markdown",
   "id": "dac48bf6-1677-4f96-a174-ac635806be73",
   "metadata": {},
   "source": [
    "Let's do the same embedding for the test protein sequences. **TODO**"
   ]
  },
  {
   "cell_type": "code",
   "execution_count": null,
   "id": "5d24843f-89b7-49c9-a5dd-5786bdb26c03",
   "metadata": {},
   "outputs": [],
   "source": []
  },
  {
   "cell_type": "markdown",
   "id": "e60207af-09a8-43e3-ad95-434c9a5fd301",
   "metadata": {},
   "source": [
    "## Integrating Data"
   ]
  },
  {
   "cell_type": "markdown",
   "id": "92f2bbb2-035b-4d0a-beb4-a2722a73faaa",
   "metadata": {},
   "source": [
    "Now when we have our protein sequences prepared, we can simply integrate the data, which will give us only one table, that contains all protein sequences and their corresponding taxonomy and GO Term IDs with respect to all aspects (MF, BP, and CC)."
   ]
  },
  {
   "cell_type": "code",
   "execution_count": 9,
   "id": "457e20ff-ca7b-4829-b08b-d225ae919900",
   "metadata": {},
   "outputs": [],
   "source": [
    "for _, row in train_taxonomy.iterrows():\n",
    "    if row['EntryID'] in train_proteins:\n",
    "        train_proteins[row['EntryID']]['taxonomyID'] = row['taxonomyID']"
   ]
  },
  {
   "cell_type": "code",
   "execution_count": 33,
   "id": "2e0a6028-e16a-416a-92ba-c90584d61ceb",
   "metadata": {},
   "outputs": [],
   "source": [
    "for _, row in train_terms.iterrows():\n",
    "    if row['EntryID'] in train_proteins:\n",
    "        train_proteins[row['EntryID']]['GO'][row['aspect']].append(row['term'])"
   ]
  },
  {
   "cell_type": "code",
   "execution_count": 37,
   "id": "fd557f04-f0cd-46c4-946e-09d876071b46",
   "metadata": {},
   "outputs": [],
   "source": [
    "data_list = []\n",
    "\n",
    "for protein_id, data in train_proteins.items():\n",
    "    data_list.append([\n",
    "        protein_id,\n",
    "        data['taxonomyID'],\n",
    "        data['sequence'],\n",
    "        data['GO']['BPO'],\n",
    "        data['GO']['CCO'],\n",
    "        data['GO']['MFO'],\n",
    "    ])\n",
    "\n",
    "train_df = pd.DataFrame(data_list, columns=['ProteinID', 'TaxonomyID', 'Sequence', 'BPO', 'CCO', 'MFO'])\n",
    "train_df.set_index('ProteinID', inplace=True)\n",
    "train_df.index.name = None"
   ]
  },
  {
   "cell_type": "code",
   "execution_count": 38,
   "id": "95729eb0-d78e-4c29-ab76-de397e5091b6",
   "metadata": {},
   "outputs": [
    {
     "data": {
      "text/html": [
       "<div>\n",
       "<style scoped>\n",
       "    .dataframe tbody tr th:only-of-type {\n",
       "        vertical-align: middle;\n",
       "    }\n",
       "\n",
       "    .dataframe tbody tr th {\n",
       "        vertical-align: top;\n",
       "    }\n",
       "\n",
       "    .dataframe thead th {\n",
       "        text-align: right;\n",
       "    }\n",
       "</style>\n",
       "<table border=\"1\" class=\"dataframe\">\n",
       "  <thead>\n",
       "    <tr style=\"text-align: right;\">\n",
       "      <th></th>\n",
       "      <th>TaxonomyID</th>\n",
       "      <th>Sequence</th>\n",
       "      <th>BPO</th>\n",
       "      <th>CCO</th>\n",
       "      <th>MFO</th>\n",
       "    </tr>\n",
       "  </thead>\n",
       "  <tbody>\n",
       "    <tr>\n",
       "      <th>P20536</th>\n",
       "      <td>10249</td>\n",
       "      <td>MNSVTVSHAPYTITYHDDWEPVMSQLVEFYNEVASWLLRDETSPIP...</td>\n",
       "      <td>[GO:0008152, GO:0071897, GO:0044249, GO:000625...</td>\n",
       "      <td>[]</td>\n",
       "      <td>[GO:0005515, GO:0005488, GO:0003674]</td>\n",
       "    </tr>\n",
       "    <tr>\n",
       "      <th>O73864</th>\n",
       "      <td>7955</td>\n",
       "      <td>MTEYRNFLLLFITSLSVIYPCTGISWLGLTINGSSVGWNQTHHCKL...</td>\n",
       "      <td>[GO:0061371, GO:0048589, GO:0051641, GO:004885...</td>\n",
       "      <td>[GO:0071944, GO:0005575, GO:0110165, GO:001602...</td>\n",
       "      <td>[GO:0046982, GO:0003674, GO:0005488, GO:000551...</td>\n",
       "    </tr>\n",
       "    <tr>\n",
       "      <th>O95231</th>\n",
       "      <td>9606</td>\n",
       "      <td>MRLSSSPPRGPQQLSSFGSVDWLSQSSCSGPTHTPRPADFSLGSLP...</td>\n",
       "      <td>[GO:0006357, GO:0010557, GO:0045935, GO:006500...</td>\n",
       "      <td>[GO:0005622, GO:0031981, GO:0043229, GO:004322...</td>\n",
       "      <td>[GO:0003676, GO:1990837, GO:0001216, GO:000548...</td>\n",
       "    </tr>\n",
       "    <tr>\n",
       "      <th>A0A0B4J1F4</th>\n",
       "      <td>10090</td>\n",
       "      <td>MGGEAGADGPRGRVKSLGLVFEDESKGCYSSGETVAGHVLLEAAEP...</td>\n",
       "      <td>[GO:0008152, GO:0051234, GO:0036211, GO:007072...</td>\n",
       "      <td>[GO:0065010, GO:0043226, GO:1903561, GO:011016...</td>\n",
       "      <td>[GO:0030674, GO:0003674, GO:1990756, GO:014076...</td>\n",
       "    </tr>\n",
       "    <tr>\n",
       "      <th>P54366</th>\n",
       "      <td>7227</td>\n",
       "      <td>MVETNSPPAGYTLKRSPSDLGEQQQPPRQISRSPGNTAAYHLTTAM...</td>\n",
       "      <td>[]</td>\n",
       "      <td>[GO:0005622, GO:0043229, GO:0043226, GO:011016...</td>\n",
       "      <td>[GO:0001227, GO:0042803, GO:0042802, GO:000548...</td>\n",
       "    </tr>\n",
       "  </tbody>\n",
       "</table>\n",
       "</div>"
      ],
      "text/plain": [
       "            TaxonomyID                                           Sequence  \\\n",
       "P20536           10249  MNSVTVSHAPYTITYHDDWEPVMSQLVEFYNEVASWLLRDETSPIP...   \n",
       "O73864            7955  MTEYRNFLLLFITSLSVIYPCTGISWLGLTINGSSVGWNQTHHCKL...   \n",
       "O95231            9606  MRLSSSPPRGPQQLSSFGSVDWLSQSSCSGPTHTPRPADFSLGSLP...   \n",
       "A0A0B4J1F4       10090  MGGEAGADGPRGRVKSLGLVFEDESKGCYSSGETVAGHVLLEAAEP...   \n",
       "P54366            7227  MVETNSPPAGYTLKRSPSDLGEQQQPPRQISRSPGNTAAYHLTTAM...   \n",
       "\n",
       "                                                          BPO  \\\n",
       "P20536      [GO:0008152, GO:0071897, GO:0044249, GO:000625...   \n",
       "O73864      [GO:0061371, GO:0048589, GO:0051641, GO:004885...   \n",
       "O95231      [GO:0006357, GO:0010557, GO:0045935, GO:006500...   \n",
       "A0A0B4J1F4  [GO:0008152, GO:0051234, GO:0036211, GO:007072...   \n",
       "P54366                                                     []   \n",
       "\n",
       "                                                          CCO  \\\n",
       "P20536                                                     []   \n",
       "O73864      [GO:0071944, GO:0005575, GO:0110165, GO:001602...   \n",
       "O95231      [GO:0005622, GO:0031981, GO:0043229, GO:004322...   \n",
       "A0A0B4J1F4  [GO:0065010, GO:0043226, GO:1903561, GO:011016...   \n",
       "P54366      [GO:0005622, GO:0043229, GO:0043226, GO:011016...   \n",
       "\n",
       "                                                          MFO  \n",
       "P20536                   [GO:0005515, GO:0005488, GO:0003674]  \n",
       "O73864      [GO:0046982, GO:0003674, GO:0005488, GO:000551...  \n",
       "O95231      [GO:0003676, GO:1990837, GO:0001216, GO:000548...  \n",
       "A0A0B4J1F4  [GO:0030674, GO:0003674, GO:1990756, GO:014076...  \n",
       "P54366      [GO:0001227, GO:0042803, GO:0042802, GO:000548...  "
      ]
     },
     "execution_count": 38,
     "metadata": {},
     "output_type": "execute_result"
    }
   ],
   "source": [
    "train_df.head()"
   ]
  },
  {
   "cell_type": "markdown",
   "id": "f4a8d0d0-3673-4fe7-9b07-f018a477c989",
   "metadata": {},
   "source": [
    "## Store "
   ]
  },
  {
   "cell_type": "markdown",
   "id": "cbcc06c8-55fa-4f8e-87ba-a8bc4fe375aa",
   "metadata": {},
   "source": [
    "Let's save the embedded data as CSV files for both training and testing so we could easily access it. **TODO**"
   ]
  },
  {
   "cell_type": "code",
   "execution_count": null,
   "id": "4e144416-b635-48c0-badf-464e88fc7ef8",
   "metadata": {},
   "outputs": [],
   "source": []
  }
 ],
 "metadata": {
  "kernelspec": {
   "display_name": "Python 3 (ipykernel)",
   "language": "python",
   "name": "python3"
  },
  "language_info": {
   "codemirror_mode": {
    "name": "ipython",
    "version": 3
   },
   "file_extension": ".py",
   "mimetype": "text/x-python",
   "name": "python",
   "nbconvert_exporter": "python",
   "pygments_lexer": "ipython3",
   "version": "3.8.19"
  }
 },
 "nbformat": 4,
 "nbformat_minor": 5
}
